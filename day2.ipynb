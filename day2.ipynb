{
 "cells": [
  {
   "cell_type": "markdown",
   "id": "2d403ee9",
   "metadata": {},
   "source": [
    "1. Print the multiplication table of a given number. "
   ]
  },
  {
   "cell_type": "code",
   "execution_count": 20,
   "id": "dc97677b",
   "metadata": {},
   "outputs": [
    {
     "name": "stdout",
     "output_type": "stream",
     "text": [
      "5 x 1 = 5\n",
      "5 x 2 = 10\n",
      "5 x 3 = 15\n",
      "5 x 4 = 20\n",
      "5 x 5 = 25\n",
      "5 x 6 = 30\n",
      "5 x 7 = 35\n",
      "5 x 8 = 40\n",
      "5 x 9 = 45\n",
      "5 x 10 = 50\n"
     ]
    }
   ],
   "source": [
    "number = int(input(\"enter a number\"))\n",
    "for i in range(1, 11):\n",
    "    print(f\"{number} x {i} = {number * i}\")"
   ]
  },
  {
   "cell_type": "markdown",
   "id": "0dcfc26f",
   "metadata": {},
   "source": [
    "2. Generate Fibonacci series up to n terms. "
   ]
  },
  {
   "cell_type": "code",
   "execution_count": null,
   "id": "f6cefe19",
   "metadata": {},
   "outputs": [
    {
     "name": "stdout",
     "output_type": "stream",
     "text": [
      "10 \n",
      "\n",
      "0 1 2 4 8 "
     ]
    }
   ],
   "source": [
    "\n",
    "n = int(input(\"Enter the number of terms for Fibonacci series: \")) \n",
    "a, b = 0, 1\n",
    "print(n,\"\\n\")\n",
    "for itr in range(n):\n",
    "    print(a, end=' ')\n",
    "    \n",
    "    # a, b = b, a + b\n",
    "    a = b\n",
    "    b = a+b\n",
    "    if(a>=n): #if number should be less than n as a integer\n",
    "        break"
   ]
  },
  {
   "cell_type": "markdown",
   "id": "46d08d1c",
   "metadata": {},
   "source": [
    "3. Count digits, vowels, and consonants in a string. "
   ]
  },
  {
   "cell_type": "code",
   "execution_count": 5,
   "id": "d5683366",
   "metadata": {},
   "outputs": [
    {
     "name": "stdout",
     "output_type": "stream",
     "text": [
      "567i \n",
      "\n",
      "Digits: 3, Vowels: 1, Consonants: 0\n"
     ]
    }
   ],
   "source": [
    "input_str = input(\"Enter a string: \")\n",
    "\n",
    "digit = []\n",
    "vowel = []\n",
    "consonant = []\n",
    "for c in input_str:\n",
    "    if(c.isdigit()):\n",
    "        digit.append(c)\n",
    "        \n",
    "    elif(c.isalpha() and c.lower() not in 'aeiou' ):\n",
    "        consonant.append(c)\n",
    "        \n",
    "    elif(c.lower() in 'aeiou' ):\n",
    "        vowel.append(c)\n",
    "    else:\n",
    "        pass\n",
    "        \n",
    "digits = len(digit)\n",
    "vowels = len(vowel)\n",
    "consonants = len(consonant)\n",
    "\n",
    "print(input_str,\"\\n\")\n",
    "print(f\"Digits: {digits}, Vowels: {vowels}, Consonants: {consonants}\")"
   ]
  },
  {
   "cell_type": "code",
   "execution_count": 29,
   "id": "a95ec86b",
   "metadata": {},
   "outputs": [
    {
     "name": "stdout",
     "output_type": "stream",
     "text": [
      "hello \n",
      "\n",
      "Digits: 0, Vowels: 2, Consonants: 3\n"
     ]
    }
   ],
   "source": [
    "input_str = input(\"Enter a string: \")\n",
    "# List comprehensions\n",
    "digits = sum(c.isdigit() for c in input_str)\n",
    "vowels = sum(c.lower() in 'aeiou' for c in input_str if c.isalpha())\n",
    "consonants = sum(c.isalpha() and c.lower() not in 'aeiou' for c in input_str)\n",
    "print(input_str,\"\\n\")\n",
    "print(f\"Digits: {digits}, Vowels: {vowels}, Consonants: {consonants}\")"
   ]
  },
  {
   "cell_type": "markdown",
   "id": "452b63e2",
   "metadata": {},
   "source": [
    "5. Create a number guessing game using while. "
   ]
  },
  {
   "cell_type": "code",
   "execution_count": null,
   "id": "a42035c2",
   "metadata": {},
   "outputs": [
    {
     "name": "stdout",
     "output_type": "stream",
     "text": [
      "---!!--(-_-)----!!--(-_-)----!!--(-_-)----!!--(-_-)----!!--(-_-)----!!--(-_-)----!!--(-_-)----!!--(-_-)----!!--(-_-)----!!--(-_-)----!!--(-_-)----!!--(-_-)----!!--(-_-)----!!--(-_-)----!!--(-_-)----!!--(-_-)----!!--(-_-)----!!--(-_-)----!!--(-_-)----!!--(-_-)- \n",
      "TRY should not be zero\n"
     ]
    }
   ],
   "source": [
    "\n",
    "import random\n",
    "tr = int(input(\"enter try number\"))\n",
    "secret_number = random.randint(1, 100)\n",
    "attempts = 0\n",
    "\n",
    "\n",
    "if(tr):\n",
    " while tr:\n",
    "  attempts += 1\n",
    "  if(attempts <= tr):\n",
    "    guess = int(input(\"Guess the number between 1 and 100: \"))\n",
    "    if guess < secret_number:\n",
    "        print(\"Too low!\")\n",
    "    elif guess > secret_number:\n",
    "        print(\"Too high!\")\n",
    "    else:\n",
    "        print(f\"Congratulations! You guessed the number in {attempts} attempts.\",\n",
    "              f\"Secret number {secret_number}\")\n",
    "        break\n",
    "  else:\n",
    "    print(\"--\"*40)\n",
    "    print(\"FAIL!! better luck next time (-_-)\")\n",
    "    break    \n",
    "else:\n",
    "  print(\"---!!--(-_-)-\"*20,\"\\nTRY should not be zero\")"
   ]
  },
  {
   "cell_type": "code",
   "execution_count": null,
   "id": "30b0df43",
   "metadata": {},
   "outputs": [],
   "source": [
    "import random\n",
    "\n",
    "secret_number = random.randint(1, 100)\n",
    "attempts = 0\n",
    "\n",
    "while True:\n",
    "    guess = int(input(\"Guess the number between 1 and 100: \"))\n",
    "    attempts += 1\n",
    "    if guess < secret_number:\n",
    "        print(\"Too low!\")\n",
    "    elif guess > secret_number:\n",
    "        print(\"Too high!\")\n",
    "    else:\n",
    "        print(f\"Congratulations! You guessed the number in {attempts} attempts.\",f\"Secret number {secret_number}\")\n",
    "        break"
   ]
  },
  {
   "cell_type": "markdown",
   "id": "151a0e00",
   "metadata": {},
   "source": [
    "6.Print numbers from 1 to 10 using a loop. "
   ]
  },
  {
   "cell_type": "code",
   "execution_count": null,
   "id": "f4df815a",
   "metadata": {},
   "outputs": [
    {
     "name": "stdout",
     "output_type": "stream",
     "text": [
      "1\n",
      "2\n",
      "3\n",
      "4\n",
      "5\n",
      "6\n",
      "7\n",
      "8\n",
      "9\n",
      "10\n"
     ]
    }
   ],
   "source": [
    "for num in range(1, 11):\n",
    "    print(num)\n"
   ]
  },
  {
   "cell_type": "markdown",
   "id": "dbeb59c4",
   "metadata": {},
   "source": [
    "7.Factorial of a number using for loop. "
   ]
  },
  {
   "cell_type": "code",
   "execution_count": 14,
   "id": "61a85abe",
   "metadata": {},
   "outputs": [
    {
     "name": "stdout",
     "output_type": "stream",
     "text": [
      "The factorial of 5 is 120\n"
     ]
    }
   ],
   "source": [
    "num = int(input(\"Enter a number: \"))\n",
    "res = 1\n",
    "for i in range(1,num + 1):\n",
    "    res *= i\n",
    "print(f\"The factorial of {num} is {res}\")"
   ]
  },
  {
   "cell_type": "markdown",
   "id": "0a93f1a1",
   "metadata": {},
   "source": [
    "8. Check whether a number is prime or not "
   ]
  },
  {
   "cell_type": "code",
   "execution_count": 19,
   "id": "563b551b",
   "metadata": {},
   "outputs": [
    {
     "name": "stdout",
     "output_type": "stream",
     "text": [
      "7 is a prime number.\n"
     ]
    }
   ],
   "source": [
    "num = int(input(\"Enter a number: \"))\n",
    "is_prime = True\n",
    "if num < 2:\n",
    "    is_prime = False\n",
    "    \n",
    "else:\n",
    "    for j in range(2, int(num ** 0.5) + 1): #sqaure root logic \n",
    "        if num % j == 0:\n",
    "            is_prime = False\n",
    "            break\n",
    "\n",
    "print(f\"{num} is {'a prime' if is_prime else 'not a prime'} number.\")"
   ]
  }
 ],
 "metadata": {
  "kernelspec": {
   "display_name": "Python 3",
   "language": "python",
   "name": "python3"
  },
  "language_info": {
   "codemirror_mode": {
    "name": "ipython",
    "version": 3
   },
   "file_extension": ".py",
   "mimetype": "text/x-python",
   "name": "python",
   "nbconvert_exporter": "python",
   "pygments_lexer": "ipython3",
   "version": "3.12.6"
  }
 },
 "nbformat": 4,
 "nbformat_minor": 5
}
