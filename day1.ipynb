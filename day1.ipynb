{
 "cells": [
  {
   "cell_type": "markdown",
   "id": "03cf5ffa",
   "metadata": {},
   "source": [
    "Write a program to calculate the area of a circle."
   ]
  },
  {
   "cell_type": "code",
   "execution_count": 5,
   "id": "f90b3f4a",
   "metadata": {},
   "outputs": [
    {
     "name": "stdout",
     "output_type": "stream",
     "text": [
      "area of circle is equal to  28.259999999999998\n"
     ]
    }
   ],
   "source": [
    "\n",
    "radius = int(input(\"enter a radius\"))\n",
    "area = 3.14*radius*radius\n",
    "\n",
    "print(\"area of circle is equal to \", area)"
   ]
  },
  {
   "cell_type": "markdown",
   "id": "46115a9b",
   "metadata": {},
   "source": [
    "Take the user's name and age as input,  and print a welcome message."
   ]
  },
  {
   "cell_type": "code",
   "execution_count": 6,
   "id": "8e92218b",
   "metadata": {},
   "outputs": [
    {
     "name": "stdout",
     "output_type": "stream",
     "text": [
      "welcome  divya and you have grown 25\n"
     ]
    }
   ],
   "source": [
    "username=input(\"enter your name\")\n",
    "age = input(\"enter ur age\")\n",
    "print(\"welcome \",username,\"and you have grown\",age)\n"
   ]
  },
  {
   "cell_type": "markdown",
   "id": "7c333ef4",
   "metadata": {},
   "source": [
    "Convert temperature from Celsius to Fahrenheit."
   ]
  },
  {
   "cell_type": "code",
   "execution_count": 7,
   "id": "bbc8ee22",
   "metadata": {},
   "outputs": [
    {
     "name": "stdout",
     "output_type": "stream",
     "text": [
      "93.2\n"
     ]
    }
   ],
   "source": [
    "celsius = int(input(\"enter temp in celsius\"))\n",
    "fahrenheit = (celsius * 9/5)+32\n",
    "print(fahrenheit)"
   ]
  },
  {
   "cell_type": "markdown",
   "id": "aa4f9892",
   "metadata": {},
   "source": [
    " Check if a number is even or odd."
   ]
  },
  {
   "cell_type": "code",
   "execution_count": 8,
   "id": "69b0aad0",
   "metadata": {},
   "outputs": [
    {
     "name": "stdout",
     "output_type": "stream",
     "text": [
      "number is even 4\n"
     ]
    }
   ],
   "source": [
    "num  = int(input(\"enter ur nnumber\"))\n",
    "if(num%2==0):\n",
    "    print(\"number is even\",num)\n",
    "    \n",
    "else:\n",
    "    print(\"number is odd\",num)"
   ]
  },
  {
   "cell_type": "markdown",
   "id": "cb8bba08",
   "metadata": {},
   "source": [
    "Take age input and determine if the person is eligible to vote."
   ]
  },
  {
   "cell_type": "code",
   "execution_count": 9,
   "id": "58d462f8",
   "metadata": {},
   "outputs": [
    {
     "name": "stdout",
     "output_type": "stream",
     "text": [
      "U are eligible to vote\n"
     ]
    }
   ],
   "source": [
    "age= int(input(\"enter ur age\"))\n",
    "if(age>=18):\n",
    "    print(\"U are eligible to vote\")\n",
    "else:\n",
    "    print(\"U are not eligible to vote\")"
   ]
  },
  {
   "cell_type": "markdown",
   "id": "8cb38057",
   "metadata": {},
   "source": [
    " Find the largest of the three numbers."
   ]
  },
  {
   "cell_type": "code",
   "execution_count": 20,
   "id": "abf49941",
   "metadata": {},
   "outputs": [
    {
     "name": "stdout",
     "output_type": "stream",
     "text": [
      "56 is greatest number\n"
     ]
    }
   ],
   "source": [
    "n1 = int(input(\"enter ur first num\"))\n",
    "n2 = int(input(\"enter ur second num\"))\n",
    "n3 = int(input(\"enter ur third num\"))\n",
    "\n",
    "if(n1 > n2 and n1 > n3):\n",
    "    print(n1,\"is greater than other number\")\n",
    "elif(n2 > n1 and n2 > n3):\n",
    "    print(n2,\"this is greater number\")\n",
    "else:\n",
    "    print(n3,\"is greatest number\")"
   ]
  },
  {
   "cell_type": "markdown",
   "id": "644cbebb",
   "metadata": {},
   "source": [
    "Check if a number is positive, negative, or zero."
   ]
  },
  {
   "cell_type": "code",
   "execution_count": 12,
   "id": "b2d2e587",
   "metadata": {},
   "outputs": [
    {
     "name": "stdout",
     "output_type": "stream",
     "text": [
      "-9 is negative\n"
     ]
    }
   ],
   "source": [
    "number  = int(input(\"enter ur number\"))\n",
    "if(number > 0 ):\n",
    "    print(number,\"is positive\")\n",
    "elif(number == 0 ):\n",
    "    print(number,\"is zero\")\n",
    "else:\n",
    "    print(number,\"is negative\")"
   ]
  },
  {
   "cell_type": "markdown",
   "id": "d54e4e2a",
   "metadata": {},
   "source": [
    "Check if a number is divisible by 5 and 11."
   ]
  },
  {
   "cell_type": "code",
   "execution_count": 15,
   "id": "0a0be226",
   "metadata": {},
   "outputs": [
    {
     "name": "stdout",
     "output_type": "stream",
     "text": [
      "42 is not divisible by both 5 and 11\n"
     ]
    }
   ],
   "source": [
    "number = int(input(\"enter a number\"))\n",
    "if(number % 5 == 0 ):\n",
    "    if(number % 11 == 0):\n",
    "        print(number ,\"is divisible by both 5 and 11\")\n",
    "    else:\n",
    "        print(number,\"is divisible by 5 only\")\n",
    "elif(number % 11 == 0):\n",
    "    print(number,\"is divisible by 11 only\")\n",
    "else:\n",
    "    print(number,\"is not divisible by both 5 and 11\")"
   ]
  },
  {
   "cell_type": "markdown",
   "id": "8ca62922",
   "metadata": {},
   "source": [
    "Simple calculator using if-else."
   ]
  },
  {
   "cell_type": "code",
   "execution_count": 17,
   "id": "289ee0dc",
   "metadata": {},
   "outputs": [
    {
     "name": "stdout",
     "output_type": "stream",
     "text": [
      "1\n"
     ]
    }
   ],
   "source": [
    "n1 = int(input(\"enter first number\"))\n",
    "n2 = int(input(\"enter second number\"))\n",
    "spc = input(\"enter arithmetic operator\")\n",
    "\n",
    "if (spc == \"/\"):\n",
    "    res = n1 / n2\n",
    "    print(res)\n",
    "elif(spc == '+'):\n",
    "    res = n1 + n2\n",
    "    print(res)\n",
    "elif (spc == \"-\"):\n",
    "    res = n1 - n2\n",
    "    print(res)\n",
    "elif(spc == '*'):\n",
    "    res = n1 * n2\n",
    "    print(res)\n",
    "else:\n",
    "    print(\"enter a new operator .\\n invalid operator\")\n",
    "    "
   ]
  },
  {
   "cell_type": "markdown",
   "id": "4d96bf1d",
   "metadata": {},
   "source": [
    "Check if a year is a leap year or not."
   ]
  },
  {
   "cell_type": "code",
   "execution_count": 19,
   "id": "81eab269",
   "metadata": {},
   "outputs": [
    {
     "name": "stdout",
     "output_type": "stream",
     "text": [
      "2021 is not a leap year\n"
     ]
    }
   ],
   "source": [
    "year = int(input(\"enter a year\\n\"))\n",
    "if(year % 4 == 0 and year % 100 != 4000 ) or (year % 400 == 0):\n",
    "    print(year ,\"is a leap year\")\n",
    "else:\n",
    "    print(year,\"is not a leap year\")"
   ]
  },
  {
   "cell_type": "markdown",
   "id": "c0a422fd",
   "metadata": {},
   "source": [
    "Build a grading system based on marks:\n",
    "   - >=90 ➝ A, 80–89 ➝ B, 70–79 ➝ C, etc. "
   ]
  },
  {
   "cell_type": "code",
   "execution_count": 22,
   "id": "72f28f74",
   "metadata": {},
   "outputs": [
    {
     "name": "stdout",
     "output_type": "stream",
     "text": [
      "78C\n"
     ]
    }
   ],
   "source": [
    "mark = input(\"enter ur marks\")\n",
    "marks = int(mark)\n",
    "\n",
    "if(marks >= 90):\n",
    "    print(mark+\"A\")\n",
    "elif(marks >= 80 and marks <=89):\n",
    "    print(mark+\"B\")\n",
    "elif(marks >=70 and marks <=79):\n",
    "    print(mark+\"C\")\n",
    "else:\n",
    "    print(mark+\"D\")"
   ]
  }
 ],
 "metadata": {
  "kernelspec": {
   "display_name": "Python 3",
   "language": "python",
   "name": "python3"
  },
  "language_info": {
   "codemirror_mode": {
    "name": "ipython",
    "version": 3
   },
   "file_extension": ".py",
   "mimetype": "text/x-python",
   "name": "python",
   "nbconvert_exporter": "python",
   "pygments_lexer": "ipython3",
   "version": "3.12.6"
  }
 },
 "nbformat": 4,
 "nbformat_minor": 5
}
