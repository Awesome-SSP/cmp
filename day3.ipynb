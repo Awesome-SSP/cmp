{
 "cells": [
  {
   "cell_type": "markdown",
   "id": "68c35b87",
   "metadata": {},
   "source": [
    "1. Reverse a list manually (without reverse() or slicing). "
   ]
  },
  {
   "cell_type": "code",
   "execution_count": 34,
   "id": "d7f96094",
   "metadata": {},
   "outputs": [
    {
     "name": "stdout",
     "output_type": "stream",
     "text": [
      "['3', '12', '6', '5', '4', '3', '2', '1']\n"
     ]
    }
   ],
   "source": [
    "reversed_list = []\n",
    "# lis = [1, 2, 3, 4, 5]\n",
    "lis = input(\"enter a list\").split(sep=' ')\n",
    "# lis = input(\"enter a list\").split(sep=',')\n",
    "for item in lis :\n",
    "    reversed_list = [item] + reversed_list\n",
    "print(reversed_list)"
   ]
  },
  {
   "cell_type": "markdown",
   "id": "904e3c90",
   "metadata": {},
   "source": [
    "2. Remove duplicates from a list. "
   ]
  },
  {
   "cell_type": "code",
   "execution_count": 47,
   "id": "b277d340",
   "metadata": {},
   "outputs": [
    {
     "name": "stdout",
     "output_type": "stream",
     "text": [
      "[1, 2, 3, 4, 5]\n",
      "--------------------\n",
      "{1, 2, 3, 4, 5}\n",
      "--------------------\n",
      "[1, 2, 3, 4, 5]\n"
     ]
    }
   ],
   "source": [
    "\n",
    "def removeDuplicate(lis):\n",
    "    seen = set()\n",
    "    result = []\n",
    "    for item  in lis:\n",
    "        if item not in seen:\n",
    "            seen.add(item)\n",
    "            result.append(item)\n",
    "    return result\n",
    "\n",
    "\n",
    "if __name__ == '__main__':\n",
    "    \n",
    "    # logic one\n",
    "    lis = [1, 2,1,1,2, 3, 4, 5]\n",
    "    a = set(lis)\n",
    "    lis = list(a)\n",
    "    print(lis)\n",
    "    print(\"--\"*10)\n",
    "    \n",
    "    # logic two\n",
    "    b = removeDuplicate(lis) \n",
    "    print(a)\n",
    "    print(\"--\"*10)\n",
    "    print(b if b == lis else \"no\")\n",
    "\n",
    "\n"
   ]
  },
  {
   "cell_type": "markdown",
   "id": "e09ec79a",
   "metadata": {},
   "source": [
    "3. Count how many times a number occurs in a list. "
   ]
  },
  {
   "cell_type": "code",
   "execution_count": 12,
   "id": "8a0842f1",
   "metadata": {},
   "outputs": [
    {
     "name": "stdout",
     "output_type": "stream",
     "text": [
      "1 occurs 3 times in the list.\n",
      "2 occurs 2 times in the list.\n",
      "3 occurs 2 times in the list.\n",
      "4 occurs 2 times in the list.\n",
      "5 occurs 5 times in the list.\n"
     ]
    }
   ],
   "source": [
    "lis = [1, 2, 3, 4, 5 ,1, 1,2,3,4,5,5,5,5,]\n",
    "\n",
    "a = set(lis)\n",
    "for number_to_count in a:\n",
    "    print(f\"{number_to_count} occurs {lis.count(number_to_count)} times in the list.\")\n",
    "count = lis.count(number_to_count)\n"
   ]
  },
  {
   "cell_type": "markdown",
   "id": "587bd4b0",
   "metadata": {},
   "source": [
    "4. Check if a string is a palindrome. "
   ]
  },
  {
   "cell_type": "code",
   "execution_count": 15,
   "id": "4240e900",
   "metadata": {},
   "outputs": [
    {
     "name": "stdout",
     "output_type": "stream",
     "text": [
      "String is not palindrome   asdfg\n"
     ]
    }
   ],
   "source": [
    "str = input(\"Enter a string\")\n",
    "if(str == str[::-1] ):\n",
    "    print(\"String is palindrome  \",str)\n",
    "else:\n",
    "    print(\"String is not palindrome  \",str)"
   ]
  },
  {
   "cell_type": "markdown",
   "id": "8e8e3da4",
   "metadata": {},
   "source": [
    "5. Extract vowels from a string and print them."
   ]
  },
  {
   "cell_type": "code",
   "execution_count": 49,
   "id": "7307ac7d",
   "metadata": {},
   "outputs": [
    {
     "name": "stdout",
     "output_type": "stream",
     "text": [
      "a\n",
      "e\n",
      "u\n",
      "i\n",
      "o\n",
      "  'asdfghqwertyuiop ', the vowel string formed here is ,'aeuio' \n"
     ]
    }
   ],
   "source": [
    "str = input(\"Enter a string\")\n",
    "s1 = \"\"\n",
    "for i in str:\n",
    "    if (i in \"aeiouAEIOU\"):\n",
    "        s1 += i\n",
    "        print(i)\n",
    "if(s1 == \"\"):\n",
    "    print(str , \"there is no vowels\")\n",
    "else:\n",
    "    print(f\"  '{str} ', the vowel string formed here is ,'{s1}' \" )"
   ]
  }
 ],
 "metadata": {
  "kernelspec": {
   "display_name": "Python 3",
   "language": "python",
   "name": "python3"
  },
  "language_info": {
   "codemirror_mode": {
    "name": "ipython",
    "version": 3
   },
   "file_extension": ".py",
   "mimetype": "text/x-python",
   "name": "python",
   "nbconvert_exporter": "python",
   "pygments_lexer": "ipython3",
   "version": "3.12.6"
  }
 },
 "nbformat": 4,
 "nbformat_minor": 5
}
